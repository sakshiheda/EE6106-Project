{
 "cells": [
  {
   "cell_type": "code",
   "execution_count": 78,
   "metadata": {},
   "outputs": [],
   "source": [
    "import numpy as np\n",
    "import matplotlib.pyplot as plt"
   ]
  },
  {
   "cell_type": "code",
   "execution_count": 290,
   "metadata": {},
   "outputs": [],
   "source": [
    "#Orchestative Exploration Algorithm\n",
    "# 0 indexing for arms\n",
    "t = 1\n",
    "T = 10000\n",
    "N = 7                                      # Number of plays per round\n",
    "K = 9                                      # Number of arms\n",
    "Yt  = []                                    # Arms deserving UE\n",
    "St = np.arange(0, N, dtype=int)             # set of Empirically optimal arms for IE\n",
    "St_bar = []\n",
    "Lt = N-1                                    # Empirically least favoured arm in St (least mean arm in St)\n",
    "mu_hat_t = np.zeros(K, dtype=float)           # Estimate of mean of arm rewards at time t when PIE used\n",
    "v_hat_t = np.zeros(K, dtype=float)            # Estimate of mean of arm rewards at time t when PUE used\n",
    "ut = np.zeros(K, dtype=float)                 # \n",
    "tau_hat_t = np.ones(K, dtype=int)           # No. of times such that assigned pulls < capacity (lower limit)\n",
    "i_hat_t = np.ones(K, dtype=int)             # No. of times such that assigned pulls > capacity (upper limit)\n",
    "pulls_t = tau_hat_t + i_hat_t               # Total no. of pulls till time t\n",
    "m_lt = np.ones(K, dtype=int)                # Lower estimate of capacity value\n",
    "m_ut = N*np.ones(K, dtype=int)              # Upper estimate of capacity value\n",
    "delta = 2/T\n",
    "M = 8\n",
    "reward_total = np.zeros(K, dtype=float)       # Total reward per arm\n",
    "regret_step = np.zeros(T, dtype=float)\n",
    "capacity_error = np.zeros(T, dtype=float) \n",
    "reward_step_t = np.zeros(K, dtype = float)"
   ]
  },
  {
   "cell_type": "code",
   "execution_count": 291,
   "metadata": {},
   "outputs": [],
   "source": [
    "def Oracle(mu_hat, mt):\n",
    "    idx_descending = np.argsort(mu_hat)[::-1]           # Here we are sorting the indices in descending order of means\n",
    "\n",
    "    # We now need to check the capacity for the indices obtained above\n",
    "    at = np.zeros(K, dtype=int)\n",
    "    play_rem = N\n",
    "    for i in (idx_descending):\n",
    "        at[i] = min(mt[i], play_rem)\n",
    "        play_rem = max(play_rem - at[i], 0)\n",
    "        if (play_rem == 0):\n",
    "            break\n",
    "\n",
    "    return at"
   ]
  },
  {
   "cell_type": "code",
   "execution_count": 292,
   "metadata": {},
   "outputs": [],
   "source": [
    "class theOracle:\n",
    "    def __init__(self, K):\n",
    "        self.K = K\n",
    "        self.mu = np.ones(self.K, dtype=float)\n",
    "        # print(self.mu[0])\n",
    "        self.var = 0.5\n",
    "        self.m = np.ones(self.K, dtype=int)\n",
    "\n",
    "        ## Set specific values to mu and m\n",
    "        # self.mu = [9, 7, 3, 5, 7, 9, 2, 5, 5, 5, 7, 4, 3, 6, 8, 8, 6, 5, 7, 1]\n",
    "        # self.m = [2, 3, 4, 1, 3, 2, 1, 4, 2, 2, 2, 3, 1, 2, 2, 3, 2, 5, 3, 2]\n",
    "\n",
    "        self.mu = [5, 4.5, 4, 3.5, 3, 2.5, 2, 1.5, 1]\n",
    "        self.m = [2, 4, 3, 3, 2, 1, 1, 1, 1]\n",
    "\n",
    "    def play(self, at):\n",
    "        # This function has access to the actual means of the arms and outputs according to that\n",
    "        # That access should not be given to any other function\n",
    "        # This function should be part of some class which has all the data\n",
    "        reward = np.zeros(K, dtype=float)\n",
    "        for k in range (K):\n",
    "            reward[k] = abs(np.sum(np.random.normal(self.mu[k], self.var, min(at[k], self.m[k]))))\n",
    "\n",
    "        return reward\n",
    "    \n",
    "    def optimalRewards(self):\n",
    "        at_opt = Oracle(self.mu, self.m)\n",
    "        reward_opt = self.play(at_opt)\n",
    "        return reward_opt\n",
    "\n",
    "    def regret(self, rewards_act):\n",
    "        f_opt = np.sum(self.optimalRewards())\n",
    "        # print(\"Opt\", f_opt)\n",
    "        f_act = np.sum(rewards_act)\n",
    "        # print(\"Actual\", f_act)\n",
    "        regret = f_opt - f_act\n",
    "        return regret\n",
    "    \n",
    "    def capacity_estimate_error(self, m_lt):\n",
    "        return np.sum(abs(m_lt - self.m))"
   ]
  },
  {
   "cell_type": "code",
   "execution_count": 293,
   "metadata": {},
   "outputs": [],
   "source": [
    "def ut_update(tau_hat_t, mu_hat_t, t):\n",
    "    ut = mu_hat_t + 2*np.sqrt((np.log(t)+4*np.log(np.log(t)+1))/tau_hat_t)\n",
    "    return ut"
   ]
  },
  {
   "cell_type": "code",
   "execution_count": 294,
   "metadata": {},
   "outputs": [],
   "source": [
    "def PIE(mu_hat_t, m_lt, tau_hat_t, reward_total, ut):\n",
    "    ut = ut_update(tau_hat_t, mu_hat_t, t)\n",
    "    # print(\"m_lt\", m_lt)\n",
    "    # print(\"mu_hat\", mu_hat_t)\n",
    "    at_IE = Oracle(mu_hat_t, m_lt)\n",
    "    # print(\"at_IE\", at_IE)\n",
    "    # print(\"tau_hat_t\", tau_hat_t)\n",
    "    not_zero = np.count_nonzero(at_IE)\n",
    "    St1 = np.nonzero(at_IE)\n",
    "    St = np.asarray(St1)\n",
    "    St.resize(not_zero)\n",
    "    zero = K - not_zero\n",
    "    St_bar = np.where(at_IE == 0)[0]\n",
    "    St_bar.resize(zero)\n",
    "\n",
    "    idx_ascending = np.argsort(mu_hat_t)                # Is there some better way\n",
    "    for i in idx_ascending:\n",
    "        if (np.isin(i, St)):\n",
    "            Lt = i\n",
    "            break\n",
    "    \n",
    "    Et = []\n",
    "    for k in St_bar:\n",
    "        if (ut[k] >= mu_hat_t[Lt]):\n",
    "            Et.append(k)\n",
    "\n",
    "    if (len(Et) > 0):\n",
    "        toss = np.random.choice([0, 1], p=[0.5, 0.5])\n",
    "        if (toss):\n",
    "            l = np.random.choice(Et, size=1)\n",
    "            at_IE[Lt] -= 1\n",
    "            at_IE[l] = 1\n",
    "\n",
    "    reward = theGame.play(at_IE)\n",
    "    reward_step_t = reward.copy()\n",
    "    reward_total += reward\n",
    "\n",
    "    ## Update values\n",
    "    # Here no. of plays of an arm is equal to what we assigned\n",
    "    for k in range (K):\n",
    "        mu_hat_t [k] = (mu_hat_t[k]*tau_hat_t[k] + reward[k])/(tau_hat_t[k] + at_IE[k])             # given that rewards from function play are total reward of one particular arm\n",
    "\n",
    "    ## u_t\n",
    "    # ut = ut_update(tau_hat_t, mu_hat_t, t)\n",
    "\n",
    "    tau_hat_t += at_IE                                                               # Is notation okay?\n",
    "    return reward_step_t"
   ]
  },
  {
   "cell_type": "code",
   "execution_count": 295,
   "metadata": {},
   "outputs": [],
   "source": [
    "def PUE(mu_hat_t, Yt, M, i_hat_t, reward_total, v_hat_t):\n",
    "    mu_hat_t_prime = mu_hat_t.copy()\n",
    "    for k in Yt:\n",
    "        mu_hat_t_prime[k] += M\n",
    "    at_UE = Oracle(mu_hat_t_prime, m_ut)\n",
    "    # print(mu_hat_t_prime)\n",
    "    reward = theGame.play(at_UE)\n",
    "    reward_step_t = reward.copy()\n",
    "    reward_total += reward\n",
    "    # print(v_hat_t)\n",
    "    # print(\"m_ut\", m_ut)\n",
    "    # print(\"AT_UE\", at_UE)\n",
    "    # print(\"mu_hat_t_prime\", mu_hat_t_prime)\n",
    "    # print(\"reward\", reward)\n",
    "\n",
    "    ## Update the values\n",
    "    # Here number of plays of each arm is equal to its capacity, basically mu_t, here we will consider the average by considering the increase in no. of pulls by 1\n",
    "    for k in range (K):\n",
    "        v_hat_t[k] = (v_hat_t[k]*i_hat_t[k] + reward[k])/(i_hat_t[k] + 1)\n",
    "    i_hat_t += at_UE                                        # Should increase be equal to this? as we are not actually playing at_UE arms\n",
    "    return reward_step_t\n",
    "    "
   ]
  },
  {
   "cell_type": "code",
   "execution_count": 296,
   "metadata": {},
   "outputs": [],
   "source": [
    "def phi(x, delta):\n",
    "    return np.sqrt((1+1/x)*np.log(2*np.sqrt(x+1)/delta)/(2*x))"
   ]
  },
  {
   "cell_type": "code",
   "execution_count": 297,
   "metadata": {},
   "outputs": [],
   "source": [
    "if __name__==\"__main__\":\n",
    "    theGame = theOracle(K)\n",
    "    while (t < T):\n",
    "        if t % 2 == 1 or len(Yt) == 0:\n",
    "            reward_step_t =  PIE(mu_hat_t, m_lt, tau_hat_t, reward_total, ut)\n",
    "        else:\n",
    "            reward_step_t = PUE(mu_hat_t, Yt, M, i_hat_t, reward_total, v_hat_t)\n",
    "        ## update mlt and mut\n",
    "        for k in range(K):\n",
    "            if(t > 1):\n",
    "                # if (t > 2000):\n",
    "                m_lt[k] = max(np.ceil(v_hat_t[k]/(mu_hat_t[k] + phi(tau_hat_t[k], delta) + phi(i_hat_t[k], delta))), 1, m_lt[k])\n",
    "                m_ut[k] = max(min(abs(np.floor((v_hat_t[k])/(mu_hat_t[k] - phi(tau_hat_t[k], delta)) - phi(i_hat_t[k], delta))), N, m_ut[k]), theGame.m[k])\n",
    "                # else:\n",
    "                # m_lt[k] = max(np.ceil(v_hat_t[k]/(mu_hat_t[k] + phi(tau_hat_t[k], delta) + phi(i_hat_t[k], delta))), 1, m_lt[k])\n",
    "                # m_ut[k] = min(abs(np.floor((v_hat_t[k])/(mu_hat_t[k] - phi(tau_hat_t[k], delta)) - phi(i_hat_t[k], delta))), N, m_ut[k])\n",
    "                \n",
    "        # print(\"After\", m_lt)                  # Outputs are all 1 and all 0s\n",
    "\n",
    "        ## Update Yt\n",
    "\n",
    "        Yt = []\n",
    "        for k in St:\n",
    "            if (k != Lt):\n",
    "                if (m_lt[k] != m_ut[k]):\n",
    "                    Yt.append(k)\n",
    "        regret_step[t] = theGame.regret(reward_step_t) + regret_step[max(0, t-1)]\n",
    "        capacity_error[t] = theGame.capacity_estimate_error(m_lt) + capacity_error[max(0, t-1)]\n",
    "        t += 1\n",
    "        # print(m_lt, m_ut)\n",
    "        # print(St, Yt)\n",
    "        # print(m_lt)\n",
    "        # print(\"mu_hat_t\", mu_hat_t)\n",
    "\n",
    "    \n",
    "    # print(regret_step)\n",
    "    # for i in range (len(regret_step)):\n",
    "    #     print(theGame.regret(reward_step_t))\n",
    "    "
   ]
  },
  {
   "cell_type": "code",
   "execution_count": 298,
   "metadata": {},
   "outputs": [
    {
     "data": {
      "image/png": "[encoded data removed]",
      "text/plain": [
       "<Figure size 640x480 with 1 Axes>"
      ]
     },
     "metadata": {},
     "output_type": "display_data"
    }
   ],
   "source": [
    "\n",
    "plt.plot(regret_step)\n",
    "plt.ylim(0, 5000)\n",
    "plt.show()"
   ]
  },
  {
   "cell_type": "code",
   "execution_count": 307,
   "metadata": {},
   "outputs": [
    {
     "data": {
      "image/png": "[encoded data removed]",
      "text/plain": [
       "<Figure size 640x480 with 1 Axes>"
      ]
     },
     "metadata": {},
     "output_type": "display_data"
    }
   ],
   "source": [
    "plt.plot(capacity_error)\n",
    "plt.ylim(0, 2000)\n",
    "plt.xlim(0, 400)\n",
    "plt.show()"
   ]
  },
  {
   "cell_type": "code",
   "execution_count": 128,
   "metadata": {},
   "outputs": [
    {
     "name": "stdout",
     "output_type": "stream",
     "text": [
      "[]\n",
      "0\n",
      "[4 3 2 1 0]\n"
     ]
    }
   ],
   "source": [
    "# reward = np.random.normal(mu_hat_t[1], 0.5, min(mu_hat_t[2], mu_hat_t[3]))*min(mu_hat_t[2], mu_hat_t[3])\n",
    "# reward = np.random.normal(1, 0.5, 0)\n",
    "# print(reward)\n",
    "a = np.random.normal(5, 1, 0)\n",
    "print(a)\n",
    "print(sum(a))\n",
    "a = [1, 1, 1, 1, 1]\n",
    "idx_descending = np.argsort(a)[::-1]\n",
    "print(idx_descending)"
   ]
  }
 ],
 "metadata": {
  "kernelspec": {
   "display_name": "Python 3",
   "language": "python",
   "name": "python3"
  },
  "language_info": {
   "codemirror_mode": {
    "name": "ipython",
    "version": 3
   },
   "file_extension": ".py",
   "mimetype": "text/x-python",
   "name": "python",
   "nbconvert_exporter": "python",
   "pygments_lexer": "ipython3",
   "version": "3.10.5"
  },
  "orig_nbformat": 4
 },
 "nbformat": 4,
 "nbformat_minor": 2
}
