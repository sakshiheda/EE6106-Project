{
 "cells": [
  {
   "cell_type": "code",
   "execution_count": 1,
   "metadata": {},
   "outputs": [],
   "source": [
    "import numpy as np"
   ]
  },
  {
   "cell_type": "code",
   "execution_count": 7,
   "metadata": {},
   "outputs": [],
   "source": [
    "#Orchestative Exploration Algorithm\n",
    "# 0 indexing for arms\n",
    "t = 1\n",
    "T = 20\n",
    "N = 10                                      # Number of plays per round\n",
    "K = 20                                      # Number of arms\n",
    "Yt  = []                                    # Arms deserving UE\n",
    "St = np.arange(0, N, dtype=int)             # set of Empirically optimal arms for IE\n",
    "St_bar = []\n",
    "Lt = N-1                                    # Empirically least favoured arm in St (least mean arm in St)\n",
    "mu_hat_t = np.zeros(K, dtype=int)           # Estimate of mean of arm rewards at time t\n",
    "ut = np.zeros(K, dtype=int)                 # \n",
    "tau_hat_t = np.ones(K, dtype=int)           # No. of times such that assigned pulls < capacity (lower limit)\n",
    "i_hat_t = np.ones(K, dtype=int)             # No. of times such that assigned pulls < capacity (upper limit)\n",
    "m_lt = np.ones(K, dtype=int)                # Lower estimate of capacity value\n",
    "m_ut = N*np.ones(K, dtype=int)              # Upper estimate of capacity value\n"
   ]
  },
  {
   "cell_type": "code",
   "execution_count": null,
   "metadata": {},
   "outputs": [],
   "source": [
    "def Oracle(mu_hat, mt):\n",
    "    idx_descending = np.argsort(mu_hat)[::-1]           # Here we are sorting the indices in descending order of means\n",
    "\n",
    "    # We now need to check the capacity for the indices obtained above\n",
    "    at = np.zeros(K, dtype=int)\n",
    "    play_rem = N\n",
    "    for i in (idx_descending):\n",
    "        at[i] = min(mt[i], play_rem)\n",
    "        play_rem = max(play_rem - at[i], 0)\n",
    "        if (play_rem == 0):\n",
    "            break\n",
    "\n",
    "    return at"
   ]
  },
  {
   "cell_type": "code",
   "execution_count": null,
   "metadata": {},
   "outputs": [],
   "source": [
    "def play(at):"
   ]
  },
  {
   "cell_type": "code",
   "execution_count": null,
   "metadata": {},
   "outputs": [],
   "source": [
    "def PIE(mu_hat_t, m_lt):\n",
    "    at_IE = Oracle(mu_hat_t, m_lt)\n",
    "    not_zero = np.count_nonzero(at_IE)\n",
    "    St.resize(not_zero)\n",
    "    St = np.nonzero(at_IE)\n",
    "    zero = K - not_zero\n",
    "    St_bar.resize(zero)\n",
    "    St_bar = np.where(at_IE == 0)[0]\n",
    "    \n",
    "    idx_ascending = np.argsort(mu_hat_t)                # Is there some better way\n",
    "    for i in idx_ascending:\n",
    "        if (np.isin(i, St)):\n",
    "            Lt = i\n",
    "            break\n",
    "    \n",
    "    Et = []\n",
    "    for k in St_bar:\n",
    "        if (ut[k] >= mu_hat_t[Lt]):\n",
    "            Et.append(k)\n",
    "\n",
    "    if (len(Et) > 0):\n",
    "        toss = np.random.choice([0, 1], p=[1.5, 0.5])\n",
    "        if (toss):\n",
    "            l = np.random.choice(Et, size=1)\n",
    "            at_IE[Lt] -= 1\n",
    "            at_IE[l] = 1\n",
    "\n",
    "    play(at_IE)\n",
    "\n",
    "    ## Update values"
   ]
  },
  {
   "cell_type": "code",
   "execution_count": null,
   "metadata": {},
   "outputs": [],
   "source": [
    "def PUE(mu_hat_t, Yt, M):\n",
    "    mu_hat_t_prime = mu_hat_t\n",
    "    for k in Yt:\n",
    "        mu_hat_t_prime[k] = mu_hat_t[k] + M\n",
    "    at_UE = Oracle(mu_hat_t_prime, m_ut)\n",
    "    rewards = play(at_UE)\n",
    "\n",
    "    ## Update the values\n",
    "    t += 1\n",
    "    "
   ]
  },
  {
   "cell_type": "code",
   "execution_count": null,
   "metadata": {},
   "outputs": [],
   "source": [
    "if __name__==\"__main__\":\n",
    "    while (t < T):\n",
    "\n",
    "        if t % 2 == 1 or len(Yt) == 0:\n",
    "            PIE()\n",
    "        else:\n",
    "            PUE()\n",
    "        ## update mlt and mut\n",
    "\n",
    "\n",
    "        ## Update Yt\n",
    "        Yt = []\n",
    "        for k in St:\n",
    "            if (k != Lt):\n",
    "                if (m_lt[k] != m_ut[k]):\n",
    "                    Yt.append(k)"
   ]
  }
 ],
 "metadata": {
  "kernelspec": {
   "display_name": "Python 3",
   "language": "python",
   "name": "python3"
  },
  "language_info": {
   "codemirror_mode": {
    "name": "ipython",
    "version": 3
   },
   "file_extension": ".py",
   "mimetype": "text/x-python",
   "name": "python",
   "nbconvert_exporter": "python",
   "pygments_lexer": "ipython3",
   "version": "3.10.5"
  },
  "orig_nbformat": 4
 },
 "nbformat": 4,
 "nbformat_minor": 2
}
